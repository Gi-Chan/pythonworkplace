{
 "cells": [
  {
   "attachments": {},
   "cell_type": "markdown",
   "metadata": {},
   "source": [
    "## 17. 이미지 검출 (경계선)"
   ]
  },
  {
   "attachments": {},
   "cell_type": "markdown",
   "metadata": {},
   "source": [
    "### Canny Edge Dection"
   ]
  },
  {
   "cell_type": "code",
   "execution_count": 6,
   "metadata": {},
   "outputs": [],
   "source": [
    "import cv2\n",
    "img = cv2.imread('snowman2.png')\n",
    "\n",
    "canny = cv2.Canny(img, 150, 200)\n",
    "# 대상 이미지, minVAL (하위임계값), maxVal (상위임계값)\n",
    "\n",
    "cv2.imshow('img', img)\n",
    "cv2.imshow('canny', canny)\n",
    "cv2.waitKey(0)\n",
    "cv2.destroyAllWindows()"
   ]
  },
  {
   "cell_type": "code",
   "execution_count": 7,
   "metadata": {},
   "outputs": [],
   "source": [
    "import cv2\n",
    "img = cv2.imread('snowman2.png')\n",
    "\n",
    "def empty(pos):\n",
    "    pass\n",
    "\n",
    "name = 'Trackbar'\n",
    "cv2.namedWindow(name)\n",
    "cv2.createTrackbar('threshold1', name, 0, 255 , empty) # minVal\n",
    "cv2.createTrackbar('threshold2', name, 0, 255 , empty) # maxVal\n",
    "\n",
    "while True:\n",
    "    threshold1 = cv2.getTrackbarPos('threshold1', name)\n",
    "    threshold2 = cv2.getTrackbarPos('threshold2', name)\n",
    "\n",
    "    canny = cv2.Canny(img, threshold1, threshold2)\n",
    "    # 대상 이미지, minVAL (하위임계값), maxVal (상위임계값)\n",
    "\n",
    "    cv2.imshow('img', img)\n",
    "    cv2.imshow(name, canny)\n",
    "    \n",
    "    if cv2.waitKey(1) == ord('q'):\n",
    "        break\n",
    "\n",
    "cv2.destroyAllWindows()"
   ]
  },
  {
   "cell_type": "code",
   "execution_count": null,
   "metadata": {},
   "outputs": [],
   "source": []
  },
  {
   "cell_type": "code",
   "execution_count": null,
   "metadata": {},
   "outputs": [],
   "source": []
  }
 ],
 "metadata": {
  "kernelspec": {
   "display_name": "Python 3",
   "language": "python",
   "name": "python3"
  },
  "language_info": {
   "codemirror_mode": {
    "name": "ipython",
    "version": 3
   },
   "file_extension": ".py",
   "mimetype": "text/x-python",
   "name": "python",
   "nbconvert_exporter": "python",
   "pygments_lexer": "ipython3",
   "version": "3.10.7"
  },
  "orig_nbformat": 4,
  "vscode": {
   "interpreter": {
    "hash": "e6bd3d0f82b018cc998724bfcbb828e65ef84307982ac936f5052d2a2dbe30e7"
   }
  }
 },
 "nbformat": 4,
 "nbformat_minor": 2
}
