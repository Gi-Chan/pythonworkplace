{
 "cells": [
  {
   "cell_type": "markdown",
   "metadata": {},
   "source": [
    "# 퀴즈"
   ]
  },
  {
   "attachments": {},
   "cell_type": "markdown",
   "metadata": {},
   "source": [
    "### OpenCV 를 이용하여 가로로 촬영된 동영상을 세로로 회전하는 프로그램을 작성하시오"
   ]
  },
  {
   "cell_type": "markdown",
   "metadata": {},
   "source": [
    "### 조건\n",
    "1. 회전 : 시계 반대방향으로 90도\n",
    "1. 재생속도 (FPS) : 원본 x 4배\n",
    "1. 출력 파일명 : city_output.avi (코덱 : DIVX)\n",
    "\n",
    "- 원본 파일명 : city.mp4"
   ]
  },
  {
   "attachments": {},
   "cell_type": "markdown",
   "metadata": {},
   "source": [
    "예제 동영상 : https://www.pexels.com/video/3121459/  \n",
    "크기 : HD (1280 x 720)  \n",
    "파일명 : city.mp4"
   ]
  },
  {
   "cell_type": "code",
   "execution_count": 8,
   "metadata": {},
   "outputs": [
    {
     "name": "stdout",
     "output_type": "stream",
     "text": [
      "가져올 프레임이 없음\n"
     ]
    }
   ],
   "source": [
    "import cv2\n",
    "cap = cv2.VideoCapture('city2.mp4')\n",
    "\n",
    "fourcc = cv2.VideoWriter_fourcc(*'DIVX') # 코텍\n",
    "width = round(cap.get(cv2.CAP_PROP_FRAME_WIDTH)) # 가로\n",
    "height = round(cap.get(cv2.CAP_PROP_FRAME_HEIGHT)) # 세로\n",
    "fps = cap.get(cv2.CAP_PROP_FPS) # 프레임\n",
    "\n",
    "\n",
    "out = cv2.VideoWriter('city_output.avi', fourcc, fps* 4, (height, width))\n",
    "# 출력 파일명, 코덱, FPS, 크기 (width, height)\n",
    "\n",
    "\n",
    "while cap.isOpened():\n",
    "    ret, frame = cap.read()\n",
    "    \n",
    "    if not ret:\n",
    "        print(\"가져올 프레임이 없음\")\n",
    "        break\n",
    "    \n",
    "    retate_frame = cv2.rotate(frame, cv2.ROTATE_90_COUNTERCLOCKWISE)\n",
    "    out.write(retate_frame)\n",
    "    cv2.imshow('video', frame)\n",
    "    \n",
    "    \n",
    "    \n",
    "    if cv2.waitKey(1) == ord('q'):\n",
    "        break\n",
    "\n",
    "out.release()\n",
    "cap.release()\n",
    "cv2.destroyAllWindows()"
   ]
  }
 ],
 "metadata": {
  "kernelspec": {
   "display_name": "Python 3",
   "language": "python",
   "name": "python3"
  },
  "language_info": {
   "codemirror_mode": {
    "name": "ipython",
    "version": 3
   },
   "file_extension": ".py",
   "mimetype": "text/x-python",
   "name": "python",
   "nbconvert_exporter": "python",
   "pygments_lexer": "ipython3",
   "version": "3.10.7"
  },
  "orig_nbformat": 4,
  "vscode": {
   "interpreter": {
    "hash": "e6bd3d0f82b018cc998724bfcbb828e65ef84307982ac936f5052d2a2dbe30e7"
   }
  }
 },
 "nbformat": 4,
 "nbformat_minor": 2
}
