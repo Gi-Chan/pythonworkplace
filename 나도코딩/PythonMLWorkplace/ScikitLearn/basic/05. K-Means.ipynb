{
 "cells": [
  {
   "cell_type": "markdown",
   "id": "3f713197",
   "metadata": {},
   "source": [
    "# 5. K-Means"
   ]
  },
  {
   "cell_type": "code",
   "execution_count": null,
   "id": "c5e9e53e",
   "metadata": {},
   "outputs": [],
   "source": [
    "import os\n",
    "os.environ['OMP_NUM_THREADS']='1'"
   ]
  },
  {
   "cell_type": "code",
   "execution_count": null,
   "id": "53063ec6",
   "metadata": {},
   "outputs": [],
   "source": [
    "import numpy as np\n",
    "import matplotlib.pyplot as plt\n",
    "import pandas as pd"
   ]
  },
  {
   "cell_type": "code",
   "execution_count": null,
   "id": "02930a67",
   "metadata": {},
   "outputs": [],
   "source": [
    "dataset = pd.read_csv('KMeansData.csv')\n",
    "dataset[:5]"
   ]
  },
  {
   "cell_type": "code",
   "execution_count": null,
   "id": "bf0d18db",
   "metadata": {},
   "outputs": [],
   "source": [
    "X = dataset.iloc[:,:].values\n",
    "X[:5]"
   ]
  },
  {
   "cell_type": "markdown",
   "id": "4d2146f0",
   "metadata": {},
   "source": [
    "### 데이터 시각화 (전체 데이터 분포 확인)"
   ]
  },
  {
   "cell_type": "code",
   "execution_count": null,
   "id": "81f5a61b",
   "metadata": {},
   "outputs": [],
   "source": [
    "plt.scatter(X[:,0], X[:,1]) # x축 : hours, y축 : score\n",
    "plt.title(\"Score by hours\")\n",
    "plt.xlabel(\"hours\")\n",
    "plt.ylabel(\"score\")\n",
    "plt.show()"
   ]
  },
  {
   "cell_type": "markdown",
   "id": "88424222",
   "metadata": {},
   "source": [
    "### 데이터 시각화 (축 범위 동일)"
   ]
  },
  {
   "cell_type": "code",
   "execution_count": null,
   "id": "a59e23e5",
   "metadata": {},
   "outputs": [],
   "source": [
    "plt.scatter(X[:,0], X[:,1]) # x축 : hours, y축 : score\n",
    "plt.title(\"Score by hours\")\n",
    "plt.xlabel(\"hours\")\n",
    "plt.xlim(0,100)\n",
    "plt.ylabel(\"score\")\n",
    "plt.ylim(0.100)\n",
    "plt.show()"
   ]
  },
  {
   "cell_type": "markdown",
   "id": "0b93bf0c",
   "metadata": {},
   "source": [
    "### 피처 스케일링 (Feature Scalling)"
   ]
  },
  {
   "cell_type": "code",
   "execution_count": null,
   "id": "5eb1991d",
   "metadata": {},
   "outputs": [],
   "source": [
    "from sklearn.preprocessing import StandardScaler\n",
    "sc = StandardScaler()\n",
    "X = sc.fit_transform(X)\n",
    "X[:5]"
   ]
  },
  {
   "cell_type": "markdown",
   "id": "91b84944",
   "metadata": {},
   "source": [
    "### 데이터 시각화 (스케일링된 데이터)"
   ]
  },
  {
   "cell_type": "code",
   "execution_count": null,
   "id": "39e8ae34",
   "metadata": {},
   "outputs": [],
   "source": [
    "plt.figure(figsize=(5,5))\n",
    "plt.scatter(X[:,0], X[:,1]) # x축 : hours, y축 : score\n",
    "plt.title(\"Score by hours\")\n",
    "plt.xlabel(\"hours\")\n",
    "plt.ylabel(\"score\")\n",
    "plt.show()"
   ]
  },
  {
   "cell_type": "markdown",
   "id": "9b7bdab8",
   "metadata": {},
   "source": [
    "### 최적의 K 값 찾기(엘보우 방식 Elbow Method)"
   ]
  },
  {
   "cell_type": "code",
   "execution_count": null,
   "id": "500f6b67",
   "metadata": {},
   "outputs": [],
   "source": [
    "from sklearn.cluster import KMeans\n",
    "inertia_list = []\n",
    "for i in range(1,11):\n",
    "    kmeans = KMeans(n_clusters=i, n_init=10, init='k-means++', random_state=0) # 객체 생성\n",
    "    kmeans.fit(X) # 학습\n",
    "    inertia_list.append(kmeans.inertia_) # 각 지점으로부터 클러스터의 중심(centroid) 까지의 거리의 제곱의 합\n",
    "    \n",
    "plt.plot(range(1,11), inertia_list)\n",
    "plt.title('Elbow Method')\n",
    "plt.xlabel(\"n_clusters\")\n",
    "plt.ylabel(\"imertia\")\n",
    "plt.show()"
   ]
  },
  {
   "cell_type": "markdown",
   "id": "266bc871",
   "metadata": {},
   "source": [
    "### 최적의 K(4) 값으로 KMeans 학습"
   ]
  },
  {
   "cell_type": "code",
   "execution_count": null,
   "id": "3c7ce7df",
   "metadata": {},
   "outputs": [],
   "source": [
    "K=4 # 최적의  k 값"
   ]
  },
  {
   "cell_type": "code",
   "execution_count": null,
   "id": "74edf978",
   "metadata": {},
   "outputs": [],
   "source": [
    "kmeans = KMeans(n_clusters = K, n_init=10,random_state=0)\n",
    "y_kmeans = kmeans.fit_predict(X)\n",
    "y_kmeans"
   ]
  },
  {
   "attachments": {},
   "cell_type": "markdown",
   "id": "9a805c97",
   "metadata": {},
   "source": [
    "### 데이터 시각화 (최적의 K)"
   ]
  },
  {
   "cell_type": "code",
   "execution_count": null,
   "id": "20010e19",
   "metadata": {},
   "outputs": [],
   "source": [
    "centers = kmeans.cluster_centers_ # 클러스터의 중심정 (centroid) 좌표\n",
    "centers"
   ]
  },
  {
   "cell_type": "code",
   "execution_count": null,
   "id": "82e921f5",
   "metadata": {},
   "outputs": [],
   "source": [
    "for cluster in range(K):\n",
    "    plt.scatter(X[y_kmeans==cluster, 0],X[y_kmeans == cluster, 1], s=100, edgecolor='black') # 각 데이터\n",
    "    plt.scatter(centers[cluster, 0], centers[cluster, 1], s=300, edgecolor='black', color='yellow', marker='s') # 중심점 네모\n",
    "    plt.text(centers[cluster, 0], centers[cluster, 1], cluster, va='center', ha='center') # 텍스트 출력\n",
    "plt.title('Score by hours')\n",
    "plt.xlabel(\"hours\")\n",
    "plt.ylabel(\"score\")\n",
    "plt.show()\n",
    "\n"
   ]
  },
  {
   "attachments": {},
   "cell_type": "markdown",
   "id": "d9f7b95d",
   "metadata": {},
   "source": [
    "### 데이터 시각화 (스케일링 원복)"
   ]
  },
  {
   "cell_type": "code",
   "execution_count": null,
   "id": "246a1ffa",
   "metadata": {},
   "outputs": [],
   "source": [
    "X_org = sc.inverse_transform(X) # Feature Scalling 된 데이터를 다시 원복\n",
    "X_org[:5]"
   ]
  },
  {
   "cell_type": "code",
   "execution_count": null,
   "id": "d9ae70f2",
   "metadata": {},
   "outputs": [],
   "source": [
    "centers_org = sc.inverse_transform(centers)\n",
    "centers_org"
   ]
  },
  {
   "cell_type": "code",
   "execution_count": null,
   "id": "5cce4c3d",
   "metadata": {},
   "outputs": [],
   "source": [
    "for cluster in range(K):\n",
    "    plt.scatter(X_org[y_kmeans==cluster, 0],X_org[y_kmeans == cluster, 1], s=100, edgecolor='black') # 각 데이터\n",
    "    plt.scatter(centers_org[cluster, 0], centers_org[cluster, 1], s=300, edgecolor='black', color='yellow', marker='s') # 중심점 네모\n",
    "    plt.text(centers_org[cluster, 0], centers_org[cluster, 1], cluster, va='center', ha='center') # 텍스트 출력\n",
    "plt.title('Score by hours')\n",
    "plt.xlabel(\"hours\")\n",
    "plt.ylabel(\"score\")\n",
    "plt.show()\n",
    "\n"
   ]
  }
 ],
 "metadata": {
  "kernelspec": {
   "display_name": "base",
   "language": "python",
   "name": "python3"
  },
  "language_info": {
   "codemirror_mode": {
    "name": "ipython",
    "version": 3
   },
   "file_extension": ".py",
   "mimetype": "text/x-python",
   "name": "python",
   "nbconvert_exporter": "python",
   "pygments_lexer": "ipython3",
   "version": "3.9.13"
  },
  "vscode": {
   "interpreter": {
    "hash": "61cb9b44de702b276cf8d5e31863d5ffbd9df6e03fdac29238eca074daaff88b"
   }
  }
 },
 "nbformat": 4,
 "nbformat_minor": 5
}
